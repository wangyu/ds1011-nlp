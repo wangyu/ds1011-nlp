{
 "cells": [
  {
   "cell_type": "code",
   "execution_count": 18,
   "metadata": {},
   "outputs": [],
   "source": [
    "import os\n",
    "import sys\n",
    "import pickle\n",
    "import pandas as pd\n",
    "import torch\n",
    "import torch.nn as nn\n",
    "import torch.nn.functional as F\n",
    "from torch.utils.data import Dataset\n",
    "from torch.autograd import Variable\n",
    "from collections import Counter\n",
    "import random\n",
    "import pdb\n",
    "random.seed(1028)\n",
    "\n",
    "from sklearn.model_selection import ShuffleSplit\n",
    "import numpy as np\n",
    "import matplotlib.pyplot as plt\n",
    "% matplotlib inline"
   ]
  },
  {
   "cell_type": "code",
   "execution_count": 2,
   "metadata": {},
   "outputs": [],
   "source": [
    "project_path = '/scratch/yw3004/class/nlp/ds1011-nlp/hw2/'"
   ]
  },
  {
   "cell_type": "markdown",
   "metadata": {},
   "source": [
    "## Data Preprocessing"
   ]
  },
  {
   "cell_type": "markdown",
   "metadata": {},
   "source": [
    "### Save tokenized text data into lists of strings and labels"
   ]
  },
  {
   "cell_type": "code",
   "execution_count": 3,
   "metadata": {},
   "outputs": [],
   "source": [
    "with open('snli_train.tsv') as f: \n",
    "    train_pairs = f.readlines()\n",
    "with open('snli_val.tsv') as f: \n",
    "    val_pairs = f.readlines()"
   ]
  },
  {
   "cell_type": "code",
   "execution_count": 10,
   "metadata": {},
   "outputs": [],
   "source": [
    "train_data = []\n",
    "train_target = []\n",
    "for line in train_pairs:\n",
    "    seq1 = line.split('\\t')[0].split()\n",
    "    seq2 = line.split('\\t')[1].split()\n",
    "    label = line.split('\\t')[2].split()\n",
    "    \n",
    "    train_data.append([seq1, seq2])\n",
    "    if label == ['contradiction']:\n",
    "        train_target.append(0)\n",
    "    elif label == ['entailment']:\n",
    "        train_target.append(1)\n",
    "    elif label == ['neutral']:\n",
    "        train_target.append(2)\n",
    "\n",
    "train_data.pop(0)\n",
    "train_target = np.array(train_target)\n",
    "\n",
    "with open(os.path.join(project_path, 'train_data.pickle'), 'wb') as f:\n",
    "        pickle.dump(train_data, f, protocol=pickle.HIGHEST_PROTOCOL)\n",
    "with open(os.path.join(project_path, 'train_target.pickle'), 'wb') as f:\n",
    "        pickle.dump(train_target, f, protocol=pickle.HIGHEST_PROTOCOL)"
   ]
  },
  {
   "cell_type": "code",
   "execution_count": 11,
   "metadata": {},
   "outputs": [],
   "source": [
    "val_data = []\n",
    "val_target = []\n",
    "for line in val_pairs:\n",
    "    seq1 = line.split('\\t')[0].split()\n",
    "    seq2 = line.split('\\t')[1].split()\n",
    "    label = line.split('\\t')[2].split()\n",
    "    \n",
    "    val_data.append([seq1, seq2])\n",
    "    if label == ['contradiction']:\n",
    "        val_target.append(0)\n",
    "    elif label == ['entailment']:\n",
    "        val_target.append(1)\n",
    "    elif label == ['neutral']:\n",
    "        val_target.append(2)\n",
    "\n",
    "val_data.pop(0)\n",
    "val_target = np.array(val_target)\n",
    "\n",
    "with open(os.path.join(project_path, 'val_data.pickle'), 'wb') as f:\n",
    "        pickle.dump(val_data, f, protocol=pickle.HIGHEST_PROTOCOL)\n",
    "with open(os.path.join(project_path, 'val_target.pickle'), 'wb') as f:\n",
    "        pickle.dump(val_target, f, protocol=pickle.HIGHEST_PROTOCOL)"
   ]
  },
  {
   "cell_type": "code",
   "execution_count": 3,
   "metadata": {},
   "outputs": [],
   "source": [
    "train_data = pickle.load(open(os.path.join(project_path, 'train_data.pickle'), \"rb\"))\n",
    "train_target = pickle.load(open(os.path.join(project_path, 'train_target.pickle'), \"rb\"))\n",
    "val_data = pickle.load(open(os.path.join(project_path, 'val_data.pickle'), \"rb\"))\n",
    "val_target = pickle.load(open(os.path.join(project_path, 'val_target.pickle'), \"rb\"))"
   ]
  },
  {
   "cell_type": "markdown",
   "metadata": {},
   "source": [
    "## Load pre-trained word embeddings"
   ]
  },
  {
   "cell_type": "code",
   "execution_count": 33,
   "metadata": {},
   "outputs": [],
   "source": [
    "import io\n",
    "\n",
    "def load_vectors(fname):\n",
    "    fin = io.open(fname, 'r', encoding='utf-8', newline='\\n', errors='ignore')\n",
    "    n, d = map(int, fin.readline().split())\n",
    "    data = {}\n",
    "    for line in fin:\n",
    "        tokens = line.rstrip().split(' ')\n",
    "        data[tokens[0]] = map(float, tokens[1:])\n",
    "    return data"
   ]
  },
  {
   "cell_type": "code",
   "execution_count": 34,
   "metadata": {},
   "outputs": [],
   "source": [
    "data = load_vectors('wiki-news-300d-1M.vec')"
   ]
  },
  {
   "cell_type": "code",
   "execution_count": 35,
   "metadata": {},
   "outputs": [
    {
     "data": {
      "text/plain": [
       "52948"
      ]
     },
     "execution_count": 35,
     "metadata": {},
     "output_type": "execute_result"
    }
   ],
   "source": [
    "pad_emb_idx = list(data.keys()).index('PAD')\n",
    "pad_emb_idx"
   ]
  },
  {
   "cell_type": "code",
   "execution_count": 36,
   "metadata": {},
   "outputs": [
    {
     "data": {
      "text/plain": [
       "77808"
      ]
     },
     "execution_count": 36,
     "metadata": {},
     "output_type": "execute_result"
    }
   ],
   "source": [
    "unk_emb_idx = list(data.keys()).index('UNK')\n",
    "unk_emb_idx"
   ]
  },
  {
   "cell_type": "code",
   "execution_count": 37,
   "metadata": {},
   "outputs": [],
   "source": [
    "with open('wiki-news-300d-1M.vec') as f: \n",
    "    embs = f.readlines()"
   ]
  },
  {
   "cell_type": "code",
   "execution_count": 38,
   "metadata": {},
   "outputs": [
    {
     "data": {
      "text/plain": [
       "'999994 300\\n'"
      ]
     },
     "execution_count": 38,
     "metadata": {},
     "output_type": "execute_result"
    }
   ],
   "source": [
    "embs.pop(0)"
   ]
  },
  {
   "cell_type": "code",
   "execution_count": 39,
   "metadata": {},
   "outputs": [],
   "source": [
    "max_vocab_size = 20000 #10000, #20000 #different vocab size\n",
    "# save index 0 for unk and 1 for pad\n",
    "PAD_IDX = 0\n",
    "UNK_IDX = 1\n",
    "\n",
    "id2token = []\n",
    "token2id = {}\n",
    "weight = np.empty((max_vocab_size, 300))\n",
    "for i in range(max_vocab_size):\n",
    "    token = embs[i].split(' ')[0]\n",
    "    vec = embs[i].split(' ')[1:]\n",
    "    id2token.append(token)\n",
    "    token2id[token] = i+2\n",
    "    weight[i] = [float(el) for el in vec]\n",
    "    \n",
    "id2token = ['<pad>', '<unk>'] + id2token\n",
    "token2id['<pad>'] = PAD_IDX \n",
    "token2id['<unk>'] = UNK_IDX\n",
    "pad_vec = embs[pad_emb_idx].split(' ')[1:]\n",
    "unk_vec = embs[unk_emb_idx].split(' ')[1:]\n",
    "pad_weight = [float(el) for el in pad_vec]\n",
    "unk_weight = [float(el) for el in unk_vec]\n",
    "\n",
    "weight = np.vstack((unk_weight, weight))\n",
    "weight = np.vstack((pad_weight, weight))"
   ]
  },
  {
   "cell_type": "code",
   "execution_count": 30,
   "metadata": {},
   "outputs": [],
   "source": [
    "# convert token to id in the dataset\n",
    "def token2index_dataset(tokens_data):\n",
    "    indices_data = []\n",
    "    for pair in tokens_data:\n",
    "        indices_pair = []\n",
    "        for tokens in pair:\n",
    "            index_list = [token2id[token] if token in token2id else UNK_IDX for token in tokens]\n",
    "            indices_pair.append(index_list)\n",
    "        indices_data.append(indices_pair)\n",
    "    return indices_data\n",
    "\n",
    "train_data_indices = token2index_dataset(train_data)\n",
    "val_data_indices = token2index_dataset(val_data)"
   ]
  },
  {
   "cell_type": "code",
   "execution_count": 12,
   "metadata": {},
   "outputs": [],
   "source": [
    "with open(os.path.join(project_path, 'train_data_indices.pickle'), 'wb') as f:\n",
    "    pickle.dump(train_data_indices, f, protocol=pickle.HIGHEST_PROTOCOL)\n",
    "with open(os.path.join(project_path, 'val_data_indices.pickle'), 'wb') as f:\n",
    "    pickle.dump(val_data_indices, f, protocol=pickle.HIGHEST_PROTOCOL)\n",
    "with open(os.path.join(project_path, 'pre_train_emb.pickle'), 'wb') as f:\n",
    "    pickle.dump(weight, f, protocol=pickle.HIGHEST_PROTOCOL)"
   ]
  },
  {
   "cell_type": "code",
   "execution_count": 4,
   "metadata": {},
   "outputs": [],
   "source": [
    "train_data_indices = pickle.load(open(os.path.join(project_path, 'train_data_indices.pickle'), \"rb\"))\n",
    "val_data_indices = pickle.load(open(os.path.join(project_path, 'val_data_indices.pickle'), \"rb\"))\n",
    "weight = pickle.load(open(os.path.join(project_path, 'pre_train_emb.pickle'), \"rb\"))"
   ]
  },
  {
   "cell_type": "code",
   "execution_count": 5,
   "metadata": {},
   "outputs": [],
   "source": [
    "weight = torch.from_numpy(weight)"
   ]
  },
  {
   "cell_type": "code",
   "execution_count": 148,
   "metadata": {},
   "outputs": [],
   "source": [
    "device = torch.device(\"cuda:0\" if torch.cuda.is_available() else \"cpu\")\n",
    "weight.to(device)"
   ]
  },
  {
   "cell_type": "markdown",
   "metadata": {},
   "source": [
    "## Create Dataset and PyTorch DataLoader"
   ]
  },
  {
   "cell_type": "code",
   "execution_count": 29,
   "metadata": {},
   "outputs": [],
   "source": [
    "class snliDataset(Dataset):\n",
    "    \"\"\"\n",
    "    Class that represents a train/validation/test dataset that's readable for PyTorch\n",
    "    Note that this class inherits torch.utils.data.Dataset\n",
    "    \"\"\"\n",
    "\n",
    "    def __init__(self,  data_list, target_list):\n",
    "        \"\"\"\n",
    "        @param data_list: list of tokens\n",
    "        @param target_list: list of targets\n",
    "\n",
    "        \"\"\"\n",
    "        self.data_list = data_list\n",
    "        self.target_list = target_list\n",
    "        assert (len(self.data_list) == len(self.target_list))\n",
    "\n",
    "    def __len__(self):\n",
    "        return len(self.data_list)\n",
    "\n",
    "    def __getitem__(self, key):\n",
    "        \"\"\"\n",
    "        Triggered when you call dataset[i]\n",
    "        \"\"\"\n",
    "        token_idx_1 = self.data_list[key][0][:MAX_SENTENCE_LENGTH]\n",
    "        token_idx_2 = self.data_list[key][1][:MAX_SENTENCE_LENGTH]\n",
    "        label = self.target_list[key]\n",
    "        return [token_idx_1, token_idx_2, len(token_idx_1), len(token_idx_2), label]\n",
    "    \n",
    "def snli_collate_func(batch):\n",
    "    \"\"\"\n",
    "    Customized function for DataLoader that dynamically pads the batch so that all\n",
    "    data have the same length\n",
    "    \"\"\"\n",
    "    data_list_1 = []\n",
    "    data_list_2 = []\n",
    "    length_list_1 = []\n",
    "    length_list_2 = []\n",
    "    label_list = []\n",
    "    \n",
    "    for datum in batch:\n",
    "        label_list.append(datum[4])\n",
    "        length_list_1.append(datum[2])\n",
    "        length_list_2.append(datum[3])\n",
    "    # padding\n",
    "    for datum in batch:\n",
    "        padded_vec_1 = np.pad(np.array(datum[0]),\n",
    "                                pad_width=((0,MAX_SENTENCE_LENGTH-datum[2])),\n",
    "                                mode=\"constant\", constant_values=0)\n",
    "        data_list_1.append(padded_vec_1)\n",
    "        \n",
    "        padded_vec_2 = np.pad(np.array(datum[1]),\n",
    "                                pad_width=((0,MAX_SENTENCE_LENGTH-datum[3])),\n",
    "                                mode=\"constant\", constant_values=0)\n",
    "        data_list_2.append(padded_vec_2)\n",
    "        \n",
    "    return [torch.from_numpy(np.array(data_list_1)), torch.from_numpy(np.array(data_list_2)),\n",
    "            torch.LongTensor(length_list_1), torch.LongTensor(length_list_2),\n",
    "            torch.LongTensor(label_list)]    "
   ]
  },
  {
   "cell_type": "code",
   "execution_count": 8,
   "metadata": {},
   "outputs": [],
   "source": [
    "MAX_SENTENCE_LENGTH = 200\n",
    "BATCH_SIZE = 32"
   ]
  },
  {
   "cell_type": "code",
   "execution_count": 9,
   "metadata": {},
   "outputs": [],
   "source": [
    "train_dataset = snliDataset(train_data_indices, train_target)\n",
    "train_loader = torch.utils.data.DataLoader(dataset=train_dataset, \n",
    "                                           batch_size=BATCH_SIZE,\n",
    "                                           collate_fn=snli_collate_func,\n",
    "                                           shuffle=True)\n",
    "\n",
    "val_dataset = snliDataset(val_data_indices, val_target)\n",
    "val_loader = torch.utils.data.DataLoader(dataset=val_dataset, \n",
    "                                           batch_size=BATCH_SIZE,\n",
    "                                           collate_fn=snli_collate_func,\n",
    "                                           shuffle=True)"
   ]
  },
  {
   "cell_type": "markdown",
   "metadata": {},
   "source": [
    "## CNN model "
   ]
  },
  {
   "cell_type": "code",
   "execution_count": 10,
   "metadata": {},
   "outputs": [],
   "source": [
    "class CNN(nn.Module):\n",
    "    def __init__(self, weight, hidden_size, kernel_size, num_layers, num_classes):\n",
    "\n",
    "        super(CNN, self).__init__()\n",
    "\n",
    "        self.num_layers, self.hidden_size = num_layers, hidden_size\n",
    "        emb_size = weight.shape[1]\n",
    "        self.embedding = nn.Embedding.from_pretrained(weight, freeze=True)\n",
    "    \n",
    "        self.conv1 = nn.Conv1d(emb_size, hidden_size, kernel_size, padding=(kernel_size-1)//2)\n",
    "        self.conv2 = nn.Conv1d(hidden_size, hidden_size, kernel_size, padding=(kernel_size-1)//2)\n",
    "        \n",
    "        self.fc = nn.Sequential(nn.Linear(hidden_size*2, hidden_size), nn.ReLU(inplace=True), nn.Linear(hidden_size, num_classes))\n",
    "\n",
    "    def forward(self, x1, x2, lengths_1, lengths_2):\n",
    "        #for seq 1\n",
    "        batch_size, seq_len_1 = x1.size()\n",
    "        embed_1 = self.embedding(x1).float()\n",
    "        #1st conv layer\n",
    "        hidden_1 = self.conv1(embed_1.transpose(1,2)).transpose(1,2)\n",
    "        hidden_1 = F.relu(hidden_1.contiguous().view(-1, hidden_1.size(-1))).view(batch_size, seq_len_1, hidden_1.size(-1))\n",
    "        #2nd conv layer\n",
    "        hidden_1 = self.conv2(hidden_1.transpose(1,2)).transpose(1,2)\n",
    "        hidden_1 = F.relu(hidden_1.contiguous().view(-1, hidden_1.size(-1))).view(batch_size, seq_len_1, hidden_1.size(-1))\n",
    "        #max pooling\n",
    "        hidden_1,_ = torch.max(hidden_1, dim=1)\n",
    "        \n",
    "        #for seq 2\n",
    "        batch_size, seq_len_2 = x2.size()\n",
    "        embed_2 = self.embedding(x2).float()\n",
    "        #1st conv layer\n",
    "        hidden_2 = self.conv1(embed_2.transpose(1,2)).transpose(1,2)\n",
    "        hidden_2 = F.relu(hidden_2.contiguous().view(-1, hidden_2.size(-1))).view(batch_size, seq_len_2, hidden_2.size(-1))\n",
    "        #2nd conv layer\n",
    "        hidden_2 = self.conv2(hidden_2.transpose(1,2)).transpose(1,2)\n",
    "        hidden_2 = F.relu(hidden_2.contiguous().view(-1, hidden_2.size(-1))).view(batch_size, seq_len_2, hidden_2.size(-1))\n",
    "        #max pooling\n",
    "        hidden_2,_ = torch.max(hidden_2, dim=1)\n",
    "        \n",
    "        #concatenate representations for 2 seqs\n",
    "        combined_hidden = torch.cat([hidden_1, hidden_2], dim=1)\n",
    "        \n",
    "        logits = self.fc(combined_hidden)\n",
    "        return logits"
   ]
  },
  {
   "cell_type": "code",
   "execution_count": 11,
   "metadata": {},
   "outputs": [],
   "source": [
    "def test_model(loader, model):\n",
    "    \"\"\"\n",
    "    Help function that tests the model's performance on a dataset\n",
    "    @param: loader - data loader for the dataset to test against\n",
    "    \"\"\"\n",
    "    correct = 0\n",
    "    total = 0\n",
    "    model.eval()\n",
    "    for data_1, data_2, lengths_1, lengths_2, labels in loader:\n",
    "        data_1, data_2, lengths_1, lengths_2, labels = data_1.to(device), data_2.to(device), lengths_1.to(device), lengths_2.to(device), labels.to(device)\n",
    "        data_batch_1, data_batch_2, lengths_batch_1, lengths_batch_2, label_batch = data_1, data_2, lengths_1, lengths_2, labels\n",
    "        outputs = F.softmax(model(data_batch_1, data_batch_2, lengths_batch_1, lengths_batch_2), dim=1)\n",
    "        predicted = outputs.max(1, keepdim=True)[1]\n",
    "\n",
    "        total += labels.size(0)\n",
    "        correct += predicted.eq(labels.view_as(predicted)).sum().item()\n",
    "    return (100 * correct / total)"
   ]
  },
  {
   "cell_type": "code",
   "execution_count": 12,
   "metadata": {},
   "outputs": [],
   "source": [
    "def train():\n",
    "    device = torch.device(\"cuda:0\" if torch.cuda.is_available() else \"cpu\")\n",
    "    model.to(device)\n",
    "\n",
    "    learning_rate = 3e-4\n",
    "    num_epochs = 10 # number epoch to train\n",
    "\n",
    "    # Criterion and Optimizer\n",
    "    criterion = torch.nn.CrossEntropyLoss()\n",
    "    optimizer = torch.optim.Adam(model.parameters(), lr=learning_rate)\n",
    "\n",
    "    # Train the model\n",
    "    total_step = len(train_loader)\n",
    "    \n",
    "    train_accs = []\n",
    "    val_accs = []\n",
    "    for epoch in range(num_epochs):\n",
    "        for i, (data_1, data_2, lengths_1, lengths_2, labels) in enumerate(train_loader):\n",
    "            data_1, data_2, lengths_1, lengths_2, labels = data_1.to(device), data_2.to(device), lengths_1.to(device), lengths_2.to(device), labels.to(device)\n",
    "            model.train()\n",
    "            optimizer.zero_grad()\n",
    "            # Forward pass\n",
    "            outputs = model(data_1, data_2, lengths_1, lengths_2)\n",
    "            loss = criterion(outputs, labels)\n",
    "\n",
    "            # Backward and optimize\n",
    "            loss.backward()\n",
    "            optimizer.step()\n",
    "            # validate every 100 iterations\n",
    "            if i > 0 and i % 100 == 0:\n",
    "                # validate\n",
    "                val_acc = test_model(val_loader, model)\n",
    "                print('Epoch: [{}/{}], Step: [{}/{}], Validation Acc: {}'.format(\n",
    "                           epoch+1, num_epochs, i+1, len(train_loader), val_acc))\n",
    "        train_acc = test_model(train_loader, model)\n",
    "        train_accs.append(train_acc)\n",
    "        val_accs.append(val_acc)\n",
    "        \n",
    "    return model, train_accs, val_accs "
   ]
  },
  {
   "cell_type": "markdown",
   "metadata": {},
   "source": [
    "## RNN model"
   ]
  },
  {
   "cell_type": "code",
   "execution_count": 13,
   "metadata": {},
   "outputs": [],
   "source": [
    "class RNN(nn.Module):\n",
    "    def __init__(self, weight, hidden_size, num_layers, num_classes):\n",
    "        # RNN Accepts the following hyperparams:\n",
    "        # emb_size: Embedding Size\n",
    "        # hidden_size: Hidden Size of layer in RNN\n",
    "        # num_layers: number of layers in RNN\n",
    "        # num_classes: number of output classes\n",
    "        # vocab_size: vocabulary size\n",
    "        super(RNN, self).__init__()\n",
    "\n",
    "        self.num_layers, self.hidden_size = num_layers, hidden_size\n",
    "        emb_size = weight.shape[1]\n",
    "        self.embedding = nn.Embedding.from_pretrained(weight, freeze=True)\n",
    "        #create rnn, batch_first true: input tensor has dim(batch_size, seq_len, emb_size)\n",
    "        self.bi_gru = nn.GRU(emb_size, hidden_size, num_layers, batch_first=True, bidirectional=True) \n",
    "        self.fc = nn.Sequential(nn.Linear(hidden_size*2, hidden_size), nn.ReLU(inplace=True), nn.Linear(hidden_size, num_classes))\n",
    "\n",
    "    def init_hidden(self, batch_size):\n",
    "        # Function initializes the activation of recurrent neural net at timestep 0\n",
    "        # Needs to be in format (num_layers, batch_size, hidden_size)\n",
    "        hidden = torch.randn(self.num_layers*2, batch_size, self.hidden_size)\n",
    "\n",
    "        return hidden\n",
    "\n",
    "    def forward(self, x1, x2, lengths_1, lengths_2):\n",
    "        # reset hidden state\n",
    "\n",
    "        batch_size, seq_len_1 = x1.size()\n",
    "        batch_size, seq_len_2 = x2.size()\n",
    "\n",
    "        ######### main part of rnn\n",
    "        \n",
    "        hidden_1 = self.init_hidden(batch_size).cuda()\n",
    "        hidden_2 = self.init_hidden(batch_size).cuda()\n",
    "\n",
    "        # get embedding of two seqs\n",
    "        embed_1 = self.embedding(x1).float()\n",
    "        embed_2 = self.embedding(x2).float()\n",
    "        \n",
    "        # sort indices in decreasing order since rnn expect input in descending length\n",
    "        _, idx_sort_1 = torch.sort(lengths_1.long(), dim=0, descending=True)\n",
    "        _, idx_unsort_1 = torch.sort(idx_sort_1, dim=0)\n",
    "        \n",
    "        lengths_1 = list(lengths_1[idx_sort_1])\n",
    "        idx_sort_1 = Variable(idx_sort_1)\n",
    "        idx_unsort_1 = Variable(idx_unsort_1)\n",
    "        \n",
    "        embed_1 = embed_1.index_select(0, idx_sort_1)\n",
    "        \n",
    "        _, idx_sort_2 = torch.sort(lengths_2.long(), dim=0, descending=True)\n",
    "        _, idx_unsort_2 = torch.sort(idx_sort_2, dim=0)\n",
    "        \n",
    "        lengths_2 = list(lengths_2[idx_sort_2])\n",
    "        idx_sort_2 = Variable(idx_sort_2)\n",
    "        idx_unsort_2 = Variable(idx_unsort_2)\n",
    "        \n",
    "        embed_2 = embed_2.index_select(0, idx_sort_2)   \n",
    "        \n",
    "        # pack padded sequence\n",
    "        embed_1 = torch.nn.utils.rnn.pack_padded_sequence(embed_1, lengths_1, batch_first=True)\n",
    "        embed_2 = torch.nn.utils.rnn.pack_padded_sequence(embed_2, lengths_2, batch_first=True)\n",
    "        # fprop though RNN\n",
    "        rnn_out1, hidden_1 = self.bi_gru(embed_1.cuda(), hidden_1)\n",
    "        rnn_out2, hidden_2 = self.bi_gru(embed_2.cuda(), hidden_2)\n",
    "\n",
    "        #concatenate 2 outputs\n",
    "        hidden_1 = torch.sum(hidden_1, dim=0)\n",
    "        hidden_1 = torch.squeeze(hidden_1)\n",
    "        hidden_1 = hidden_1.index_select(0, idx_unsort_1)\n",
    "        \n",
    "        hidden_2 = torch.sum(hidden_2, dim=0)\n",
    "        hidden_2 = torch.squeeze(hidden_2)\n",
    "        hidden_2 = hidden_2.index_select(0, idx_unsort_2)\n",
    "    \n",
    "        combined_out = torch.cat([hidden_1, hidden_2], dim=1)\n",
    "        \n",
    "        ##########\n",
    "\n",
    "        logits = self.fc(combined_out)\n",
    "        return logits"
   ]
  },
  {
   "cell_type": "markdown",
   "metadata": {},
   "source": [
    "## Hyperparameter Tunning"
   ]
  },
  {
   "cell_type": "markdown",
   "metadata": {},
   "source": [
    "### 1. Size of hidden dimensions (CNN)"
   ]
  },
  {
   "cell_type": "code",
   "execution_count": 149,
   "metadata": {},
   "outputs": [],
   "source": [
    "num_epochs = 10\n",
    "hidden_sizes = [200, 500, 1000]\n",
    "models_hid = []\n",
    "train_accs_array_hid = np.empty([len(hidden_sizes), num_epochs])\n",
    "val_accs_array_hid = np.empty([len(hidden_sizes), num_epochs])\n",
    "\n",
    "for i in range(len(hidden_sizes)):\n",
    "    model = CNN(weight, hidden_size=hidden_sizes[i], kernel_size=3, num_layers=2, num_classes=3)\n",
    "    model, train_accs, val_accs = train()\n",
    "    models_hid.append(model)\n",
    "    train_accs_array_hid[i]=train_accs\n",
    "    val_accs_array_hid[i]=val_accs"
   ]
  },
  {
   "cell_type": "code",
   "execution_count": 122,
   "metadata": {},
   "outputs": [
    {
     "data": {
      "image/png": "[encoded data removed]",
      "text/plain": [
       "<Figure size 720x216 with 3 Axes>"
      ]
     },
     "metadata": {
      "needs_background": "light"
     },
     "output_type": "display_data"
    }
   ],
   "source": [
    "plt.figure(1, figsize=(10,3))\n",
    "plt.subplot(131)\n",
    "plt.plot(range(1,11), train_accs_array_hid[0], label='train_acc')\n",
    "plt.plot(range(1,11), val_accs_array_hid[0], label='val_acc')\n",
    "plt.title('Hidden dim = 200')\n",
    "plt.xlabel('num_epochs')\n",
    "plt.legend(loc='best')\n",
    "plt.subplot(132)\n",
    "plt.plot(range(1,11), train_accs_array_hid[1], label='train_acc')\n",
    "plt.plot(range(1,11), val_accs_array_hid[1], label='val_acc')\n",
    "plt.title('Hidden dim = 500')\n",
    "plt.xlabel('num_epochs')\n",
    "plt.legend(loc='best')\n",
    "plt.subplot(133)\n",
    "plt.plot(range(1,11), train_accs_array_hid[2], label='train_acc')\n",
    "plt.plot(range(1,11), val_accs_array_hid[2], label='val_acc')\n",
    "plt.title('Hidden dim = 1000')\n",
    "plt.xlabel('num_epochs')\n",
    "plt.legend(loc='best')\n",
    "plt.tight_layout()"
   ]
  },
  {
   "cell_type": "code",
   "execution_count": 123,
   "metadata": {},
   "outputs": [
    {
     "data": {
      "text/plain": [
       "array([67.5, 68.6, 70.3])"
      ]
     },
     "execution_count": 123,
     "metadata": {},
     "output_type": "execute_result"
    }
   ],
   "source": [
    "np.amax(val_accs_array_hid, axis=1)"
   ]
  },
  {
   "cell_type": "markdown",
   "metadata": {},
   "source": [
    "### 2. Size of hidden dimension (RNN) "
   ]
  },
  {
   "cell_type": "code",
   "execution_count": 150,
   "metadata": {},
   "outputs": [],
   "source": [
    "num_epochs = 10\n",
    "hidden_sizes = [200, 500] #[200, 500, 1000]\n",
    "models_hid_rnn = []\n",
    "train_accs_array_hid_rnn = np.empty([len(hidden_sizes), num_epochs])\n",
    "val_accs_array_hid_rnn = np.empty([len(hidden_sizes), num_epochs])\n",
    "\n",
    "for i in range(len(hidden_sizes)):\n",
    "    model = RNN(weight, hidden_size=hidden_sizes[i], num_layers=1, num_classes=3)\n",
    "    model, train_accs, val_accs = train()\n",
    "    models_hid_rnn.append(model)\n",
    "    train_accs_array_hid_rnn[i]=train_accs\n",
    "    val_accs_array_hid_rnn[i]=val_accs"
   ]
  },
  {
   "cell_type": "code",
   "execution_count": 16,
   "metadata": {},
   "outputs": [
    {
     "data": {
      "image/png": "[encoded data removed]",
      "text/plain": [
       "<Figure size 720x216 with 3 Axes>"
      ]
     },
     "metadata": {
      "needs_background": "light"
     },
     "output_type": "display_data"
    }
   ],
   "source": [
    "plt.figure(1, figsize=(10,3))\n",
    "plt.subplot(131)\n",
    "plt.plot(range(1,11), train_accs_array_hid_rnn[0], label='train_acc')\n",
    "plt.plot(range(1,11), val_accs_array_hid_rnn[0], label='val_acc')\n",
    "plt.title('Hidden dim = 200')\n",
    "plt.xlabel('num_epochs')\n",
    "plt.legend(loc='best')\n",
    "plt.subplot(132)\n",
    "plt.plot(range(1,11), train_accs_array_hid_rnn[1], label='train_acc')\n",
    "plt.plot(range(1,11), val_accs_array_hid_rnn[1], label='val_acc')\n",
    "plt.title('Hidden dim = 500')\n",
    "plt.xlabel('num_epochs')\n",
    "plt.legend(loc='best')\n",
    "plt.subplot(133)\n",
    "plt.plot(range(1,11), train_accs_array_hid_rnn[2], label='train_acc')\n",
    "plt.plot(range(1,11), val_accs_array_hid_rnn[2], label='val_acc')\n",
    "plt.title('Hidden dim = 1000')\n",
    "plt.xlabel('num_epochs')\n",
    "plt.legend(loc='best')\n",
    "plt.tight_layout()"
   ]
  },
  {
   "cell_type": "code",
   "execution_count": 17,
   "metadata": {},
   "outputs": [
    {
     "data": {
      "text/plain": [
       "array([70.1, 71.5, 72. ])"
      ]
     },
     "execution_count": 17,
     "metadata": {},
     "output_type": "execute_result"
    }
   ],
   "source": [
    "np.amax(val_accs_array_hid_rnn, axis=1)"
   ]
  },
  {
   "cell_type": "code",
   "execution_count": 35,
   "metadata": {},
   "outputs": [
    {
     "data": {
      "text/plain": [
       "3000"
      ]
     },
     "execution_count": 35,
     "metadata": {},
     "output_type": "execute_result"
    }
   ],
   "source": [
    "len(list(models_hid_rnn[2].parameters())[7])"
   ]
  },
  {
   "cell_type": "markdown",
   "metadata": {},
   "source": [
    "### 3. Kernel size for CNN"
   ]
  },
  {
   "cell_type": "code",
   "execution_count": 151,
   "metadata": {},
   "outputs": [],
   "source": [
    "kernel_sizes = [5,7]\n",
    "models_ker = []\n",
    "train_accs_array_ker = np.empty([len(kernel_sizes), num_epochs])\n",
    "val_accs_array_ker = np.empty([len(kernel_sizes), num_epochs])\n",
    "\n",
    "for i in range(len(kernel_sizes)):\n",
    "    model = CNN(weight, hidden_size=200, kernel_size=kernel_sizes[i], num_layers=2, num_classes=3)\n",
    "    model, train_accs, val_accs = train()\n",
    "    models_ker.append(model)\n",
    "    train_accs_array_ker[i]=train_accs\n",
    "    val_accs_array_ker[i]=val_accs"
   ]
  },
  {
   "cell_type": "code",
   "execution_count": 158,
   "metadata": {},
   "outputs": [
    {
     "data": {
      "image/png": "[encoded data removed]",
      "text/plain": [
       "<Figure size 720x216 with 3 Axes>"
      ]
     },
     "metadata": {
      "needs_background": "light"
     },
     "output_type": "display_data"
    }
   ],
   "source": [
    "plt.figure(1, figsize=(10,3))\n",
    "plt.subplot(131)\n",
    "plt.plot(range(1,11), train_accs_array_hid[0], label='train_acc')\n",
    "plt.plot(range(1,11), val_accs_array_hid[0], label='val_acc')\n",
    "plt.title('Kernel size  = 3')\n",
    "plt.xlabel('num_epochs')\n",
    "plt.legend(loc='best')\n",
    "plt.subplot(132)\n",
    "plt.plot(range(1,11), train_accs_array_ker[0], label='train_acc')\n",
    "plt.plot(range(1,11), val_accs_array_ker[0], label='val_acc')\n",
    "plt.title('Kernel size  = 5')\n",
    "plt.xlabel('num_epochs')\n",
    "plt.legend(loc='best')\n",
    "plt.subplot(133)\n",
    "plt.plot(range(1,11), train_accs_array_ker[1], label='train_acc')\n",
    "plt.plot(range(1,11), val_accs_array_ker[1], label='val_acc')\n",
    "plt.title('Kernel size  = 7')\n",
    "plt.xlabel('num_epochs')\n",
    "plt.legend(loc='best')\n",
    "plt.tight_layout()"
   ]
  },
  {
   "cell_type": "code",
   "execution_count": 161,
   "metadata": {},
   "outputs": [
    {
     "data": {
      "text/plain": [
       "array([67.2, 66.2])"
      ]
     },
     "execution_count": 161,
     "metadata": {},
     "output_type": "execute_result"
    }
   ],
   "source": [
    "np.amax(val_accs_array_ker, axis=1)"
   ]
  },
  {
   "cell_type": "markdown",
   "metadata": {},
   "source": [
    "## Get correct/incorrect predictions"
   ]
  },
  {
   "cell_type": "code",
   "execution_count": 141,
   "metadata": {},
   "outputs": [],
   "source": [
    "def get_predictions(loader, model):\n",
    "    \"\"\"\n",
    "    Help function that tests the model's performance on a dataset\n",
    "    @param: loader - data loader for the dataset to test against\n",
    "    \"\"\"\n",
    "    correct = 0\n",
    "    incorrect = 0\n",
    "    correct_seqs = []\n",
    "    incorrect_seqs = []\n",
    "    \n",
    "    model.eval()\n",
    "    for data_1, data_2, lengths_1, lengths_2, labels in loader:\n",
    "        data_1, data_2, lengths_1, lengths_2, labels = data_1.to(device), data_2.to(device), lengths_1.to(device), lengths_2.to(device), labels.to(device)\n",
    "        data_batch_1, data_batch_2, lengths_batch_1, lengths_batch_2, label_batch = data_1, data_2, lengths_1, lengths_2, labels\n",
    "        outputs = F.softmax(model(data_batch_1, data_batch_2, lengths_batch_1, lengths_batch_2), dim=1)\n",
    "        predicted = outputs.max(1, keepdim=True)[1]\n",
    "        \n",
    "        for i in range(len(predicted.eq(labels.view_as(predicted)))):\n",
    "            if correct > 2 and incorrect > 2: \n",
    "                break\n",
    "            if predicted.eq(labels.view_as(predicted))[i] == 1:\n",
    "                correct+=1\n",
    "                correct_seqs.append([data_1[i], data_2[i], predicted[i], labels[i]])\n",
    "            elif predicted.eq(labels.view_as(predicted))[i] == 0:\n",
    "                incorrect+=1\n",
    "                incorrect_seqs.append([data_1[i], data_2[i], predicted[i], labels[i]])\n",
    "\n",
    "    return correct_seqs, incorrect_seqs"
   ]
  },
  {
   "cell_type": "code",
   "execution_count": 142,
   "metadata": {},
   "outputs": [],
   "source": [
    "correct_seqs, incorrect_seqs = get_predictions(val_loader, best_cnn)"
   ]
  },
  {
   "cell_type": "code",
   "execution_count": 144,
   "metadata": {},
   "outputs": [],
   "source": [
    "def detok(index_pair):\n",
    "    seq1 = []\n",
    "    seq2 = []\n",
    "    for idx in index_pair[0]:\n",
    "        token = id2token[idx]\n",
    "        if token != '<pad>':\n",
    "            seq1.append(token)\n",
    "    for idx in index_pair[1]:\n",
    "        token = id2token[idx]\n",
    "        if token != '<pad>':\n",
    "            seq2.append(token)\n",
    "        \n",
    "    return seq1, seq2"
   ]
  },
  {
   "cell_type": "code",
   "execution_count": 145,
   "metadata": {},
   "outputs": [],
   "source": [
    "seq1, seq2= detok(incorrect_seqs[1])"
   ]
  },
  {
   "cell_type": "code",
   "execution_count": 146,
   "metadata": {},
   "outputs": [
    {
     "data": {
      "text/plain": [
       "(['Two', 'people', 'are', 'in', 'a', 'green', 'forest', '.'],\n",
       " ['The', 'forest', 'is', 'not', 'dead', '.'])"
      ]
     },
     "execution_count": 146,
     "metadata": {},
     "output_type": "execute_result"
    }
   ],
   "source": [
    "seq1, seq2"
   ]
  },
  {
   "cell_type": "code",
   "execution_count": 147,
   "metadata": {},
   "outputs": [
    {
     "data": {
      "text/plain": [
       "(tensor([0], device='cuda:0'), tensor(1, device='cuda:0'))"
      ]
     },
     "execution_count": 147,
     "metadata": {},
     "output_type": "execute_result"
    }
   ],
   "source": [
    "incorrect_seqs[1][2], incorrect_seqs[1][3]"
   ]
  },
  {
   "cell_type": "markdown",
   "metadata": {},
   "source": [
    "## Test on MultiNLI"
   ]
  },
  {
   "cell_type": "markdown",
   "metadata": {},
   "source": [
    "### Load data"
   ]
  },
  {
   "cell_type": "code",
   "execution_count": 22,
   "metadata": {},
   "outputs": [],
   "source": [
    "with open('mnli_val.tsv') as f: \n",
    "    test_pairs = f.readlines()"
   ]
  },
  {
   "cell_type": "code",
   "execution_count": 24,
   "metadata": {},
   "outputs": [],
   "source": [
    "test_data = []\n",
    "test_target = []\n",
    "test_genre = []\n",
    "\n",
    "for line in test_pairs:\n",
    "    seq1 = line.split('\\t')[0].split()\n",
    "    seq2 = line.split('\\t')[1].split()\n",
    "    label = line.split('\\t')[2]\n",
    "    genre = line.split('\\t')[3].split()\n",
    "    \n",
    "    test_data.append([seq1, seq2])\n",
    "    test_genre.append(genre)\n",
    "    if label == 'contradiction':\n",
    "        test_target.append(0)\n",
    "    elif label == 'entailment':\n",
    "        test_target.append(1)\n",
    "    elif label == 'neutral':\n",
    "        test_target.append(2)\n",
    "\n",
    "test_data.pop(0)\n",
    "test_genre.pop(0)\n",
    "test_target = np.array(test_target)"
   ]
  },
  {
   "cell_type": "code",
   "execution_count": 25,
   "metadata": {},
   "outputs": [],
   "source": [
    "unique_genre = np.unique(test_genre)"
   ]
  },
  {
   "cell_type": "code",
   "execution_count": 26,
   "metadata": {},
   "outputs": [
    {
     "data": {
      "text/plain": [
       "array(['fiction', 'government', 'slate', 'telephone', 'travel'],\n",
       "      dtype='<U10')"
      ]
     },
     "execution_count": 26,
     "metadata": {},
     "output_type": "execute_result"
    }
   ],
   "source": [
    "unique_genre"
   ]
  },
  {
   "cell_type": "code",
   "execution_count": 27,
   "metadata": {},
   "outputs": [],
   "source": [
    "test_data_fiction = []\n",
    "test_data_government = []\n",
    "test_data_slate = []\n",
    "test_data_telephone = []\n",
    "test_data_travel = []\n",
    "\n",
    "test_target_fiction = []\n",
    "test_target_government = []\n",
    "test_target_slate = []\n",
    "test_target_telephone = []\n",
    "test_target_travel = []\n",
    "\n",
    "for i in range(len(test_genre)):\n",
    "    if test_genre[i] == ['fiction']:\n",
    "        test_data_fiction.append(test_data[i])\n",
    "        test_target_fiction.append(test_target[i])\n",
    "    elif test_genre[i] == ['government']:\n",
    "        test_data_government.append(test_data[i])\n",
    "        test_target_government.append(test_target[i])\n",
    "    elif test_genre[i] == ['slate']:\n",
    "        test_data_slate.append(test_data[i])\n",
    "        test_target_slate.append(test_target[i])\n",
    "    elif test_genre[i] == ['telephone']:\n",
    "        test_data_telephone.append(test_data[i])\n",
    "        test_target_telephone.append(test_target[i])\n",
    "    elif test_genre[i] == ['travel']:\n",
    "        test_data_travel.append(test_data[i])\n",
    "        test_target_travel.append(test_target[i])"
   ]
  },
  {
   "cell_type": "code",
   "execution_count": 40,
   "metadata": {},
   "outputs": [],
   "source": [
    "test_data_indices_fiction = token2index_dataset(test_data_fiction)\n",
    "test_data_indices_government = token2index_dataset(test_data_government)\n",
    "test_data_indices_slate = token2index_dataset(test_data_slate)\n",
    "test_data_indices_telephone = token2index_dataset(test_data_telephone)\n",
    "test_data_indices_travel = token2index_dataset(test_data_travel)"
   ]
  },
  {
   "cell_type": "code",
   "execution_count": 41,
   "metadata": {},
   "outputs": [],
   "source": [
    "test_dataset_fiction = snliDataset(test_data_indices_fiction, test_target_fiction)\n",
    "test_loader_fiction = torch.utils.data.DataLoader(dataset=test_dataset_fiction, \n",
    "                                           batch_size=BATCH_SIZE,\n",
    "                                           collate_fn=snli_collate_func,\n",
    "                                           shuffle=True)\n",
    "\n",
    "test_dataset_government = snliDataset(test_data_indices_government, test_target_government)\n",
    "test_loader_government = torch.utils.data.DataLoader(dataset=test_dataset_government, \n",
    "                                           batch_size=BATCH_SIZE,\n",
    "                                           collate_fn=snli_collate_func,\n",
    "                                           shuffle=True)\n",
    "\n",
    "test_dataset_slate = snliDataset(test_data_indices_slate, test_target_slate)\n",
    "test_loader_slate = torch.utils.data.DataLoader(dataset=test_dataset_slate, \n",
    "                                           batch_size=BATCH_SIZE,\n",
    "                                           collate_fn=snli_collate_func,\n",
    "                                           shuffle=True)\n",
    "\n",
    "test_dataset_telephone = snliDataset(test_data_indices_telephone, test_target_telephone)\n",
    "test_loader_telephone = torch.utils.data.DataLoader(dataset=test_dataset_telephone, \n",
    "                                           batch_size=BATCH_SIZE,\n",
    "                                           collate_fn=snli_collate_func,\n",
    "                                           shuffle=True)\n",
    "\n",
    "test_dataset_travel = snliDataset(test_data_indices_travel, test_target_travel)\n",
    "test_loader_travel = torch.utils.data.DataLoader(dataset=test_dataset_travel, \n",
    "                                           batch_size=BATCH_SIZE,\n",
    "                                           collate_fn=snli_collate_func,\n",
    "                                           shuffle=True)"
   ]
  },
  {
   "cell_type": "code",
   "execution_count": 51,
   "metadata": {},
   "outputs": [],
   "source": [
    "test_acc_fiction_cnn = test_model(test_loader_fiction, models_hid[0])\n",
    "test_acc_government_cnn = test_model(test_loader_government, models_hid[0])\n",
    "test_acc_slate_cnn = test_model(test_loader_slate, models_hid[0])\n",
    "test_acc_telephone_cnn = test_model(test_loader_telephone, models_hid[0])\n",
    "test_acc_travel_cnn = test_model(test_loader_travel, models_hid[0])\n",
    "\n",
    "test_acc_fiction_rnn = test_model(test_loader_fiction, models_hid_rnn[0])\n",
    "test_acc_government_rnn = test_model(test_loader_government, models_hid_rnn[0])\n",
    "test_acc_slate_rnn = test_model(test_loader_slate, models_hid_rnn[0])\n",
    "test_acc_telephone_rnn = test_model(test_loader_telephone, models_hid_rnn[0])\n",
    "test_acc_travel_rnn = test_model(test_loader_travel, models_hid_rnn[0])"
   ]
  },
  {
   "cell_type": "code",
   "execution_count": 52,
   "metadata": {},
   "outputs": [
    {
     "name": "stdout",
     "output_type": "stream",
     "text": [
      "test_acc from cnn model in fiction:  44.824120603015075\n",
      "test_acc from cnn model in government:  43.110236220472444\n",
      "test_acc from cnn model in slate:  43.612774451097806\n",
      "test_acc from cnn model in telephone:  43.98009950248756\n",
      "test_acc from cnn model in travel:  45.11201629327902\n",
      "test_acc from rnn model in fiction:  50.35175879396985\n",
      "test_acc from rnn model in government:  47.539370078740156\n",
      "test_acc from rnn model in slate:  45.50898203592814\n",
      "test_acc from rnn model in telephone:  49.75124378109453\n",
      "test_acc from rnn model in travel:  49.59266802443992\n"
     ]
    }
   ],
   "source": [
    "print('test_acc from cnn model in fiction: ', test_acc_fiction_cnn)\n",
    "print('test_acc from cnn model in government: ', test_acc_government_cnn)\n",
    "print('test_acc from cnn model in slate: ', test_acc_slate_cnn)\n",
    "print('test_acc from cnn model in telephone: ', test_acc_telephone_cnn)\n",
    "print('test_acc from cnn model in travel: ', test_acc_travel_cnn)\n",
    "\n",
    "print('test_acc from rnn model in fiction: ', test_acc_fiction_rnn)\n",
    "print('test_acc from rnn model in government: ', test_acc_government_rnn)\n",
    "print('test_acc from rnn model in slate: ', test_acc_slate_rnn)\n",
    "print('test_acc from rnn model in telephone: ', test_acc_telephone_rnn)\n",
    "print('test_acc from rnn model in travel: ', test_acc_travel_rnn)"
   ]
  },
  {
   "cell_type": "code",
   "execution_count": 68,
   "metadata": {},
   "outputs": [],
   "source": [
    "pytorch_total_params = sum(p.numel() for p in  models_hid_rnn[1].parameters() if p.requires_grad)"
   ]
  },
  {
   "cell_type": "code",
   "execution_count": 69,
   "metadata": {},
   "outputs": [
    {
     "data": {
      "text/plain": [
       "2908003"
      ]
     },
     "execution_count": 69,
     "metadata": {},
     "output_type": "execute_result"
    }
   ],
   "source": [
    "pytorch_total_params"
   ]
  }
 ],
 "metadata": {
  "kernelspec": {
   "display_name": "Python 3",
   "language": "python",
   "name": "python3"
  },
  "language_info": {
   "codemirror_mode": {
    "name": "ipython",
    "version": 3
   },
   "file_extension": ".py",
   "mimetype": "text/x-python",
   "name": "python",
   "nbconvert_exporter": "python",
   "pygments_lexer": "ipython3",
   "version": "3.6.6"
  }
 },
 "nbformat": 4,
 "nbformat_minor": 2
}
