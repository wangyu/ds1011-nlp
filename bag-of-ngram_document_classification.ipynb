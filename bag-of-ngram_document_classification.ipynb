{
 "cells": [
  {
   "cell_type": "code",
   "execution_count": 44,
   "metadata": {},
   "outputs": [],
   "source": [
    "import os\n",
    "import sys\n",
    "import pickle\n",
    "\n",
    "import pandas as pd\n",
    "\n",
    "from sklearn.model_selection import ShuffleSplit\n",
    "import random\n",
    "import numpy as np\n",
    "import matplotlib.pyplot as plt\n",
    "% matplotlib inline"
   ]
  },
  {
   "cell_type": "code",
   "execution_count": 2,
   "metadata": {},
   "outputs": [],
   "source": [
    "project_path = '/scratch/yw3004/class/nlp/ds1011-nlp/aclImdb/'"
   ]
  },
  {
   "cell_type": "markdown",
   "metadata": {},
   "source": [
    "## Data Preprocessing"
   ]
  },
  {
   "cell_type": "markdown",
   "metadata": {},
   "source": [
    "### 1. Save text data into lists of strings and labels"
   ]
  },
  {
   "cell_type": "code",
   "execution_count": 60,
   "metadata": {},
   "outputs": [],
   "source": [
    "train_data = []\n",
    "train_target = []\n",
    "for dirpath, dirnames, filenames in os.walk(os.path.join(project_path, 'train', 'sup')):\n",
    "    for filename in [f for f in filenames if f.endswith(\".txt\")]:\n",
    "        with open(os.path.join(dirpath, filename), 'r') as f:\n",
    "            train_data.append(f.read())\n",
    "        if os.path.basename(dirpath) == 'pos':\n",
    "            train_target.append(1)\n",
    "        else:\n",
    "            train_target.append(0)\n",
    "        \n",
    "train_target = np.array(train_target)\n",
    "\n",
    "with open(os.path.join(project_path, 'train', 'sup', 'train_data.pickle'), 'wb') as f:\n",
    "        pickle.dump(train_data, f, protocol=pickle.HIGHEST_PROTOCOL)\n",
    "with open(os.path.join(project_path, 'train', 'sup', 'train_target.pickle'), 'wb') as f:\n",
    "        pickle.dump(train_target, f, protocol=pickle.HIGHEST_PROTOCOL)"
   ]
  },
  {
   "cell_type": "code",
   "execution_count": 61,
   "metadata": {},
   "outputs": [],
   "source": [
    "val_data = []\n",
    "val_target = []\n",
    "for dirpath, dirnames, filenames in os.walk(os.path.join(project_path, 'val')):\n",
    "    for filename in [f for f in filenames if f.endswith(\".txt\")]:\n",
    "        with open(os.path.join(dirpath, filename), 'r') as f:\n",
    "            val_data.append(f.read())\n",
    "        if os.path.basename(dirpath) == 'pos':\n",
    "            val_target.append(1)\n",
    "        else:\n",
    "            val_target.append(0)\n",
    "\n",
    "val_target = np.array(val_target)\n",
    "\n",
    "with open(os.path.join(project_path, 'val', 'val_data.pickle'), 'wb') as f:\n",
    "        pickle.dump(val_data, f, protocol=pickle.HIGHEST_PROTOCOL)\n",
    "with open(os.path.join(project_path, 'val',  'val_target.pickle'), 'wb') as f:\n",
    "        pickle.dump(val_target, f, protocol=pickle.HIGHEST_PROTOCOL)"
   ]
  },
  {
   "cell_type": "code",
   "execution_count": 64,
   "metadata": {
    "scrolled": true
   },
   "outputs": [],
   "source": [
    "test_data = []\n",
    "test_target = []\n",
    "for dirpath, dirnames, filenames in os.walk(os.path.join(project_path, 'test', 'sup')):\n",
    "    for filename in [f for f in filenames if f.endswith(\".txt\")]:\n",
    "        with open(os.path.join(dirpath, filename), 'r') as f:\n",
    "            test_data.append(f.read())\n",
    "        if os.path.basename(dirpath) == 'pos':\n",
    "            test_target.append(1)\n",
    "        else:\n",
    "            test_target.append(0)\n",
    "test_target = np.array(test_target)\n",
    "\n",
    "with open(os.path.join(project_path, 'test', 'sup', 'test_data.pickle'), 'wb') as f:\n",
    "        pickle.dump(test_data, f, protocol=pickle.HIGHEST_PROTOCOL)\n",
    "with open(os.path.join(project_path, 'test', 'sup', 'test_target.pickle'), 'wb') as f:\n",
    "        pickle.dump(test_target, f, protocol=pickle.HIGHEST_PROTOCOL)"
   ]
  },
  {
   "cell_type": "code",
   "execution_count": null,
   "metadata": {},
   "outputs": [],
   "source": [
    "val_data = pickle.load(open(os.path.join(project_path, 'val', 'val_data.pickle'), \"rb\"))\n",
    "val_target = pickle.load(open(os.path.join(project_path, 'val', 'val_target.pickle'), \"rb\"))\n",
    "test_data = pickle.load(open(os.path.join(project_path, 'test', 'sup', 'test_data.pickle'), \"rb\"))\n",
    "test_target = pickle.load(open(os.path.join(project_path, 'test', 'sup', 'test_target.pickle'), \"rb\"))\n",
    "train_data = pickle.load(open(os.path.join(project_path, 'train', 'sup', 'train_data.pickle'), \"rb\"))\n",
    "train_target = pickle.load(open(os.path.join(project_path, 'train', 'sup', 'train_target.pickle'), \"rb\"))"
   ]
  },
  {
   "cell_type": "markdown",
   "metadata": {},
   "source": [
    "### 2. Tokenize data"
   ]
  },
  {
   "cell_type": "code",
   "execution_count": 247,
   "metadata": {},
   "outputs": [],
   "source": [
    "import spacy\n",
    "import string\n",
    "\n",
    "# Load English tokenizer, tagger, parser, NER and word vectors\n",
    "tokenizer = spacy.load('en_core_web_sm')\n",
    "punctuations = string.punctuation\n",
    "\n",
    "# lowercase and remove punctuation\n",
    "def tokenize(sent):\n",
    "    tokens = tokenizer(sent)\n",
    "    # 2 different tokenization schemes\n",
    "    return [token.text.lower() for token in tokens if (token.text not in punctuations)]\n",
    "    #return [token.text.lower() for token in tokens if (token.text not in punctuations) and not token.is_stop]"
   ]
  },
  {
   "cell_type": "code",
   "execution_count": 492,
   "metadata": {},
   "outputs": [],
   "source": [
    "def tokenize_dataset(dataset):\n",
    "    token_dataset = []\n",
    "    # we are keeping track of all tokens in dataset \n",
    "    # in order to create vocabulary later\n",
    "    all_tokens = []\n",
    "    \n",
    "    for sample in dataset:\n",
    "        tokens = tokenize(sample)\n",
    "        token_dataset.append(tokens)\n",
    "        all_tokens += tokens\n",
    "\n",
    "    return token_dataset, all_tokens\n",
    "\n",
    "# val set tokens\n",
    "print (\"Tokenizing val data\")\n",
    "val_data_tokens, _ = tokenize_dataset(val_data)\n",
    "with open(os.path.join(project_path, 'val_data_tokens.pickle'), 'wb') as f:\n",
    "    pickle.dump(val_data_tokens, f, protocol=pickle.HIGHEST_PROTOCOL)\n",
    "\n",
    "# val_data_tokens_no_stop, _ = tokenize_dataset(val_data)\n",
    "# with open(os.path.join(project_path, 'val_data_tokens_no_stop.pickle'), 'wb') as f:\n",
    "#     pickle.dump(val_data_tokens_no_stop, f, protocol=pickle.HIGHEST_PROTOCOL)\n",
    "    \n",
    "#test set tokens\n",
    "print (\"Tokenizing test data\")\n",
    "test_data_tokens, _ = tokenize_dataset(test_data)\n",
    "with open(os.path.join(project_path, 'test_data_tokens.pickle'), 'wb') as f:\n",
    "    pickle.dump(test_data_tokens, f, protocol=pickle.HIGHEST_PROTOCOL)\n",
    "\n",
    "# val_data_tokens_no_stop, _ = tokenize_dataset(val_data)\n",
    "# with open(os.path.join(project_path, 'val_data_tokens_no_stop.pickle'), 'wb') as f:\n",
    "#     pickle.dump(val_data_tokens_no_stop, f, protocol=pickle.HIGHEST_PROTOCOL)\n",
    "    \n",
    "#train set tokens\n",
    "print (\"Tokenizing train data\")\n",
    "train_data_tokens, all_train_tokens = tokenize_dataset(train_data)\n",
    "with open(os.path.join(project_path, 'train_data_tokens.pickle'), 'wb') as f:\n",
    "    pickle.dump(train_data_tokens, f, protocol=pickle.HIGHEST_PROTOCOL)\n",
    "with open(os.path.join(project_path, 'all_train_tokens.pickle'), 'wb') as f:\n",
    "    pickle.dump(all_train_tokens, f, protocol=pickle.HIGHEST_PROTOCOL)\n",
    "\n",
    "# val_data_tokens_no_stop, _ = tokenize_dataset(val_data)\n",
    "# with open(os.path.join(project_path, 'val_data_tokens_no_stop.pickle'), 'wb') as f:\n",
    "#     pickle.dump(val_data_tokens_no_stop, f, protocol=pickle.HIGHEST_PROTOCOL)"
   ]
  },
  {
   "cell_type": "markdown",
   "metadata": {},
   "source": [
    "### Create tokens for n-gram"
   ]
  },
  {
   "cell_type": "code",
   "execution_count": 480,
   "metadata": {},
   "outputs": [],
   "source": [
    "val_data_tokens = pickle.load(open(os.path.join(project_path, \"val_data_tokens.pickle\"), \"rb\"))\n",
    "test_data_tokens = pickle.load(open(os.path.join(project_path,\"test_data_tokens.pickle\"), \"rb\"))\n",
    "train_data_tokens = pickle.load(open(os.path.join(project_path,\"train_data_tokens.pickle\"), \"rb\"))\n",
    "all_train_tokens = pickle.load(open(os.path.join(project_path,\"all_train_tokens.pickle\"), \"rb\"))"
   ]
  },
  {
   "cell_type": "code",
   "execution_count": 404,
   "metadata": {},
   "outputs": [],
   "source": [
    "from nltk.util import ngrams\n",
    "def get_ngram_tokens(n):\n",
    "    train_data_tokens_ngrams = []\n",
    "    all_train_tokens_ngrams = []\n",
    "    val_data_tokens_ngrams = []\n",
    "    test_data_tokens_ngrams = []\n",
    "\n",
    "    for token in train_data_tokens:\n",
    "        n_grams = ngrams(token, n)\n",
    "        n_grams_comb = [' '.join(grams) for grams in n_grams]\n",
    "        train_data_tokens_ngrams.append(n_grams_comb)\n",
    "        all_train_tokens_ngrams += n_grams_comb\n",
    "    \n",
    "    for token in val_data_tokens:\n",
    "        n_grams = ngrams(token, n)\n",
    "        n_grams_comb = [' '.join(grams) for grams in n_grams]\n",
    "        val_data_tokens_ngrams.append(n_grams_comb)\n",
    "    \n",
    "    for token in test_data_tokens:\n",
    "        n_grams = ngrams(token, n)\n",
    "        n_grams_comb = [' '.join(grams) for grams in n_grams]\n",
    "        test_data_tokens_ngrams.append(n_grams_comb)\n",
    "        \n",
    "    with open(os.path.join(project_path, 'train_data_tokens_'+str(n)+'gram.pickle'), 'wb') as f:\n",
    "        pickle.dump(train_data_tokens_ngrams, f, protocol=pickle.HIGHEST_PROTOCOL)\n",
    "    with open(os.path.join(project_path, 'all_train_tokens_'+str(n)+'gram.pickle'), 'wb') as f:\n",
    "        pickle.dump(all_train_tokens_ngrams, f, protocol=pickle.HIGHEST_PROTOCOL)\n",
    "    with open(os.path.join(project_path, 'val_data_tokens_'+str(n)+'gram.pickle'), 'wb') as f:\n",
    "        pickle.dump(val_data_tokens_ngrams, f, protocol=pickle.HIGHEST_PROTOCOL)\n",
    "    with open(os.path.join(project_path, 'test_data_tokens_'+str(n)+'gram.pickle'), 'wb') as f:\n",
    "        pickle.dump(test_data_tokens_ngrams, f, protocol=pickle.HIGHEST_PROTOCOL)"
   ]
  },
  {
   "cell_type": "code",
   "execution_count": 405,
   "metadata": {},
   "outputs": [],
   "source": [
    "get_ngram_tokens(2)\n",
    "get_ngram_tokens(3)\n",
    "get_ngram_tokens(4)"
   ]
  },
  {
   "cell_type": "code",
   "execution_count": 435,
   "metadata": {},
   "outputs": [],
   "source": [
    "val_data_tokens = pickle.load(open(os.path.join(project_path, \"val_data_tokens_4gram.pickle\"), \"rb\"))\n",
    "test_data_tokens = pickle.load(open(os.path.join(project_path,\"test_data_tokens_4gram.pickle\"), \"rb\"))\n",
    "train_data_tokens = pickle.load(open(os.path.join(project_path,\"train_data_tokens_4gram.pickle\"), \"rb\"))\n",
    "all_train_tokens = pickle.load(open(os.path.join(project_path,\"all_train_tokens_4gram.pickle\"), \"rb\"))"
   ]
  },
  {
   "cell_type": "markdown",
   "metadata": {},
   "source": [
    "### 3. Create vocab"
   ]
  },
  {
   "cell_type": "code",
   "execution_count": 481,
   "metadata": {},
   "outputs": [],
   "source": [
    "from collections import Counter\n",
    "\n",
    "max_vocab_size = 5000 #10000, #20000 #different vocab size\n",
    "# save index 0 for unk and 1 for pad\n",
    "PAD_IDX = 0\n",
    "UNK_IDX = 1\n",
    "\n",
    "def build_vocab(all_tokens):\n",
    "    # Returns:\n",
    "    # id2token: list of tokens, where id2token[i] returns token that corresponds to token i\n",
    "    # token2id: dictionary where keys represent tokens and corresponding values represent indices\n",
    "    token_counter = Counter(all_tokens)\n",
    "    vocab, count = zip(*token_counter.most_common(max_vocab_size))\n",
    "    id2token = list(vocab)\n",
    "    token2id = dict(zip(vocab, range(2,2+len(vocab)))) \n",
    "    id2token = ['<pad>', '<unk>'] + id2token\n",
    "    token2id['<pad>'] = PAD_IDX \n",
    "    token2id['<unk>'] = UNK_IDX\n",
    "    return token2id, id2token"
   ]
  },
  {
   "cell_type": "code",
   "execution_count": 482,
   "metadata": {},
   "outputs": [],
   "source": [
    "token2id, id2token = build_vocab(all_train_tokens)"
   ]
  },
  {
   "cell_type": "code",
   "execution_count": 493,
   "metadata": {},
   "outputs": [],
   "source": [
    "# convert token to id in the dataset\n",
    "def token2index_dataset(tokens_data):\n",
    "    indices_data = []\n",
    "    for tokens in tokens_data:\n",
    "        index_list = [token2id[token] if token in token2id else UNK_IDX for token in tokens]\n",
    "        indices_data.append(index_list)\n",
    "    return indices_data\n",
    "\n",
    "train_data_indices = token2index_dataset(train_data_tokens)\n",
    "val_data_indices = token2index_dataset(val_data_tokens)\n",
    "test_data_indices = token2index_dataset(test_data_tokens)"
   ]
  },
  {
   "cell_type": "markdown",
   "metadata": {},
   "source": [
    "## Create Dataset and PyTorch DataLoader"
   ]
  },
  {
   "cell_type": "code",
   "execution_count": 485,
   "metadata": {},
   "outputs": [],
   "source": [
    "import numpy as np\n",
    "import torch\n",
    "from torch.utils.data import Dataset\n",
    "\n",
    "class IMDBDataset(Dataset):\n",
    "    \"\"\"\n",
    "    Class that represents a train/validation/test dataset that's readable for PyTorch\n",
    "    Note that this class inherits torch.utils.data.Dataset\n",
    "    \"\"\"\n",
    "    \n",
    "    def __init__(self, data_list, target_list):\n",
    "        \"\"\"\n",
    "        @param data_list: list of newsgroup tokens (already represented by index) \n",
    "        @param target_list: list of newsgroup targets (1-20 topics)\n",
    "\n",
    "        \"\"\"\n",
    "        self.data_list = data_list\n",
    "        self.target_list = target_list\n",
    "        assert (len(self.data_list) == len(self.target_list))\n",
    "\n",
    "    def __len__(self):\n",
    "        return len(self.data_list)\n",
    "        \n",
    "    def __getitem__(self, key):\n",
    "        \"\"\"\n",
    "        Triggered when you call dataset[i]\n",
    "        \"\"\"\n",
    "        \n",
    "        token_idx = self.data_list[key][:MAX_SENTENCE_LENGTH]\n",
    "        label = self.target_list[key]\n",
    "        return [token_idx, len(token_idx), label]\n",
    "\n",
    "def imdb_collate_func(batch):\n",
    "    \"\"\"\n",
    "    Customized function for DataLoader that dynamically pads the batch so that all \n",
    "    data have the same length\n",
    "    \"\"\"\n",
    "    data_list = []\n",
    "    label_list = []\n",
    "    length_list = []\n",
    "    #print(\"collate batch: \", batch[0][0])\n",
    "    #batch[0][0] = batch[0][0][:MAX_SENTENCE_LENGTH]\n",
    "    for datum in batch:\n",
    "        label_list.append(datum[2])\n",
    "        length_list.append(datum[1])\n",
    "    # padding\n",
    "    for datum in batch:\n",
    "        padded_vec = np.pad(np.array(datum[0]), \n",
    "                                pad_width=((0,MAX_SENTENCE_LENGTH-datum[1])), \n",
    "                                mode=\"constant\", constant_values=0)\n",
    "        data_list.append(padded_vec)\n",
    "    return [torch.from_numpy(np.array(data_list)), torch.LongTensor(length_list), torch.LongTensor(label_list)]"
   ]
  },
  {
   "cell_type": "code",
   "execution_count": 486,
   "metadata": {},
   "outputs": [],
   "source": [
    "MAX_SENTENCE_LENGTH = 200\n",
    "BATCH_SIZE = 32"
   ]
  },
  {
   "cell_type": "code",
   "execution_count": 487,
   "metadata": {},
   "outputs": [],
   "source": [
    "train_dataset = IMDBDataset(train_data_indices, train_target)\n",
    "train_loader = torch.utils.data.DataLoader(dataset=train_dataset, \n",
    "                                           batch_size=BATCH_SIZE,\n",
    "                                           collate_fn=imdb_collate_func,\n",
    "                                           shuffle=True)\n",
    "\n",
    "val_dataset = IMDBDataset(val_data_indices, val_target)\n",
    "val_loader = torch.utils.data.DataLoader(dataset=val_dataset, \n",
    "                                           batch_size=BATCH_SIZE,\n",
    "                                           collate_fn=imdb_collate_func,\n",
    "                                           shuffle=True)\n",
    "\n",
    "test_dataset = IMDBDataset(test_data_indices, test_target)\n",
    "test_loader = torch.utils.data.DataLoader(dataset=test_dataset, \n",
    "                                           batch_size=BATCH_SIZE,\n",
    "                                           collate_fn=imdb_collate_func,\n",
    "                                           shuffle=False)"
   ]
  },
  {
   "cell_type": "markdown",
   "metadata": {},
   "source": [
    "## Bag of n-gram model"
   ]
  },
  {
   "cell_type": "code",
   "execution_count": 488,
   "metadata": {},
   "outputs": [],
   "source": [
    "# First import torch related libraries\n",
    "import torch\n",
    "import torch.nn as nn\n",
    "import torch.nn.functional as F\n",
    "\n",
    "class BagOfWords(nn.Module):\n",
    "    \"\"\"\n",
    "    BagOfWords classification model\n",
    "    \"\"\"\n",
    "    def __init__(self, vocab_size, emb_dim):\n",
    "        \"\"\"\n",
    "        @param vocab_size: size of the vocabulary. \n",
    "        @param emb_dim: size of the word embedding\n",
    "        \"\"\"\n",
    "        super(BagOfWords, self).__init__()\n",
    "        # pay attention to padding_idx \n",
    "        self.embed = nn.Embedding(vocab_size, emb_dim, padding_idx=0)\n",
    "        self.linear = nn.Linear(emb_dim,20)\n",
    "    \n",
    "    def forward(self, data, length):\n",
    "        \"\"\"\n",
    "        \n",
    "        @param data: matrix of size (batch_size, max_sentence_length). Each row in data represents a \n",
    "            review that is represented using n-gram index. Note that they are padded to have same length.\n",
    "        @param length: an int tensor of size (batch_size), which represents the non-trivial (excludes padding)\n",
    "            length of each sentences in the data.\n",
    "        \"\"\"\n",
    "        out = self.embed(data)\n",
    "        out = torch.sum(out, dim=1)\n",
    "        out /= length.view(length.size()[0],1).expand_as(out).float()\n",
    "     \n",
    "        # return logits\n",
    "        out = self.linear(out.float())\n",
    "        return out"
   ]
  },
  {
   "cell_type": "code",
   "execution_count": 489,
   "metadata": {},
   "outputs": [],
   "source": [
    "# Function for testing the model\n",
    "def test_model(loader, model):\n",
    "    \"\"\"\n",
    "    Help function that tests the model's performance on a dataset\n",
    "    @param: loader - data loader for the dataset to test against\n",
    "    \"\"\"\n",
    "    correct = 0\n",
    "    total = 0\n",
    "    model.eval()\n",
    "    for data, lengths, labels in loader:\n",
    "        data_batch, length_batch, label_batch = data, lengths, labels\n",
    "        outputs = F.softmax(model(data_batch, length_batch), dim=1)\n",
    "        predicted = outputs.max(1, keepdim=True)[1]\n",
    "        \n",
    "        total += labels.size(0)\n",
    "        correct += predicted.eq(labels.view_as(predicted)).sum().item()\n",
    "    return (100 * correct / total)"
   ]
  },
  {
   "cell_type": "code",
   "execution_count": 490,
   "metadata": {},
   "outputs": [],
   "source": [
    "def train():\n",
    "    train_accs = []\n",
    "    val_accs = []\n",
    "    for epoch in range(num_epochs):\n",
    "        for i, (data, lengths, labels) in enumerate(train_loader):\n",
    "            model.train()\n",
    "            data_batch, length_batch, label_batch = data, lengths, labels\n",
    "            optimizer.zero_grad()\n",
    "            outputs = model(data_batch, length_batch)\n",
    "            loss = criterion(outputs, label_batch)\n",
    "            loss.backward()\n",
    "            optimizer.step()\n",
    "            # validate every 100 iterations\n",
    "            if i > 0 and i % 100 == 0:\n",
    "                # validate\n",
    "                val_acc = test_model(val_loader, model)\n",
    "                print('Epoch: [{}/{}], Step: [{}/{}], Validation Acc: {}'.format( \n",
    "                           epoch+1, num_epochs, i+1, len(train_loader), val_acc))\n",
    "        train_acc = test_model(train_loader, model)\n",
    "        train_accs.append(train_acc)\n",
    "        val_accs.append(val_acc)\n",
    "        \n",
    "    return model, train_accs, val_accs "
   ]
  },
  {
   "cell_type": "markdown",
   "metadata": {},
   "source": [
    "## Hyperparameter Tunning"
   ]
  },
  {
   "cell_type": "markdown",
   "metadata": {},
   "source": [
    "### 1. Learning rate"
   ]
  },
  {
   "cell_type": "code",
   "execution_count": 62,
   "metadata": {},
   "outputs": [],
   "source": [
    "emb_dim = 100\n",
    "num_epochs = 10\n",
    "criterion=torch.nn.CrossEntropyLoss()"
   ]
  },
  {
   "cell_type": "code",
   "execution_count": 494,
   "metadata": {},
   "outputs": [],
   "source": [
    "lrs = [0.1, 0.01, 0.001, 0.0001, 0.00001]\n",
    "models = []\n",
    "train_accs_array = np.empty([len(lrs), num_epochs])\n",
    "val_accs_array = np.empty([len(lrs), num_epochs])\n",
    "for i in range(len(lrs)):\n",
    "    model, train_accs, val_accs = train(emb_dim, lrs[i], num_epochs, criterion)\n",
    "    models.append(model)\n",
    "    train_accs_array[i]=train_accs\n",
    "    val_accs_array[i]=val_accs"
   ]
  },
  {
   "cell_type": "code",
   "execution_count": 113,
   "metadata": {},
   "outputs": [
    {
     "data": {
      "image/png": "[encoded data removed]",
      "text/plain": [
       "<Figure size 576x432 with 4 Axes>"
      ]
     },
     "metadata": {
      "needs_background": "light"
     },
     "output_type": "display_data"
    }
   ],
   "source": [
    "plt.figure(1, figsize=(8,6))\n",
    "plt.subplot(221)\n",
    "plt.plot(range(1,11), train_accs_array[1], label='train_acc')\n",
    "plt.plot(range(1,11), val_accs_array[1], label='val_acc')\n",
    "plt.title('Learning rate = 0.01')\n",
    "plt.xlabel('num_epochs')\n",
    "plt.legend(loc='best')\n",
    "plt.subplot(222)\n",
    "plt.plot(range(1,11), train_accs_array[2], label='train_acc')\n",
    "plt.plot(range(1,11), val_accs_array[2], label='val_acc')\n",
    "plt.title('Learning rate = 0.001')\n",
    "plt.xlabel('num_epochs')\n",
    "plt.legend(loc='best')\n",
    "plt.subplot(223)\n",
    "plt.plot(range(1,11), train_accs_array[3], label='train_acc')\n",
    "plt.plot(range(1,11), val_accs_array[3], label='val_acc')\n",
    "plt.title('Learning rate = 0.0001')\n",
    "plt.xlabel('num_epochs')\n",
    "plt.legend(loc='best')\n",
    "plt.subplot(224)\n",
    "plt.plot(range(1,11), train_accs_array[4], label='train_acc')\n",
    "plt.plot(range(1,11), val_accs_array[4], label='val_acc')\n",
    "plt.title('Learning rate = 0.00001')\n",
    "plt.xlabel('num_epochs')\n",
    "plt.legend(loc='best')\n",
    "plt.tight_layout()"
   ]
  },
  {
   "cell_type": "code",
   "execution_count": 458,
   "metadata": {},
   "outputs": [
    {
     "data": {
      "text/plain": [
       "array([83.14, 84.54, 84.82, 74.14, 50.18])"
      ]
     },
     "execution_count": 458,
     "metadata": {},
     "output_type": "execute_result"
    }
   ],
   "source": [
    "np.amax(val_accs_array, axis=1)"
   ]
  },
  {
   "cell_type": "markdown",
   "metadata": {},
   "source": [
    "### 2. Embedding dimensions"
   ]
  },
  {
   "cell_type": "code",
   "execution_count": 117,
   "metadata": {},
   "outputs": [],
   "source": [
    "learning_rate = 0.001\n",
    "num_epochs = 10\n",
    "criterion=torch.nn.CrossEntropyLoss()"
   ]
  },
  {
   "cell_type": "code",
   "execution_count": 495,
   "metadata": {},
   "outputs": [],
   "source": [
    "emb_dims = [300, 500]\n",
    "models_emb = []\n",
    "train_accs_array_emb = np.empty([len(emb_dims), num_epochs])\n",
    "val_accs_array_emb = np.empty([len(emb_dims), num_epochs])\n",
    "\n",
    "for i in range(len(emb_dims)):\n",
    "    model = BagOfWords(len(id2token), emb_dims[i])\n",
    "    optimizer = torch.optim.Adam(model.parameters(), lr=learning_rate)\n",
    "    model, train_accs, val_accs = train()\n",
    "    models_emb.append(model)\n",
    "    train_accs_array_emb[i]=train_accs\n",
    "    val_accs_array_emb[i]=val_accs"
   ]
  },
  {
   "cell_type": "code",
   "execution_count": 137,
   "metadata": {},
   "outputs": [
    {
     "data": {
      "image/png": "[encoded data removed]",
      "text/plain": [
       "<Figure size 720x216 with 3 Axes>"
      ]
     },
     "metadata": {
      "needs_background": "light"
     },
     "output_type": "display_data"
    }
   ],
   "source": [
    "plt.figure(1, figsize=(10,3))\n",
    "plt.subplot(131)\n",
    "plt.plot(range(1,11), train_accs_array[2], label='train_acc')\n",
    "plt.plot(range(1,11), val_accs_array[2], label='val_acc')\n",
    "plt.title('Embedding dim = 100')\n",
    "plt.xlabel('num_epochs')\n",
    "plt.ylim((65,100))\n",
    "plt.legend(loc='best')\n",
    "plt.subplot(132)\n",
    "plt.plot(range(1,11), train_accs_array_emb[0], label='train_acc')\n",
    "plt.plot(range(1,11), val_accs_array_emb[0], label='val_acc')\n",
    "plt.title('Embedding dim = 300')\n",
    "plt.xlabel('num_epochs')\n",
    "plt.ylim((65,100))\n",
    "plt.legend(loc='best')\n",
    "plt.subplot(133)\n",
    "plt.plot(range(1,11), train_accs_array_emb[1], label='train_acc')\n",
    "plt.plot(range(1,11), val_accs_array_emb[1], label='val_acc')\n",
    "plt.title('Embedding dim = 500')\n",
    "plt.xlabel('num_epochs')\n",
    "plt.ylim((65,100))\n",
    "plt.legend(loc='best')\n",
    "plt.tight_layout()"
   ]
  },
  {
   "cell_type": "code",
   "execution_count": 459,
   "metadata": {},
   "outputs": [
    {
     "data": {
      "text/plain": [
       "array([84.86, 85.12])"
      ]
     },
     "execution_count": 459,
     "metadata": {},
     "output_type": "execute_result"
    }
   ],
   "source": [
    "np.amax(val_accs_array_emb, axis=1)"
   ]
  },
  {
   "cell_type": "markdown",
   "metadata": {},
   "source": [
    "### 3.Optimizer"
   ]
  },
  {
   "cell_type": "code",
   "execution_count": 151,
   "metadata": {},
   "outputs": [],
   "source": [
    "learning_rate = 0.001\n",
    "emb_dim = 500\n",
    "criterion=torch.nn.CrossEntropyLoss()"
   ]
  },
  {
   "cell_type": "code",
   "execution_count": 496,
   "metadata": {},
   "outputs": [],
   "source": [
    "model = BagOfWords(len(id2token), emb_dim)\n",
    "optimizer = torch.optim.SGD(model.parameters(), lr=learning_rate)\n",
    "model_sgd, train_accs_sgd, val_accs_sgd = train()"
   ]
  },
  {
   "cell_type": "code",
   "execution_count": 140,
   "metadata": {},
   "outputs": [
    {
     "data": {
      "image/png": "[encoded data removed]",
      "text/plain": [
       "<Figure size 504x216 with 2 Axes>"
      ]
     },
     "metadata": {
      "needs_background": "light"
     },
     "output_type": "display_data"
    }
   ],
   "source": [
    "plt.figure(1, figsize=(7,3))\n",
    "plt.subplot(121)\n",
    "plt.plot(range(1,11), train_accs_array_emb[1], label='train_acc')\n",
    "plt.plot(range(1,11), val_accs_array_emb[1], label='val_acc')\n",
    "plt.title('Optimizer: Adam')\n",
    "plt.xlabel('num_epochs')\n",
    "plt.legend(loc='best')\n",
    "plt.subplot(122)\n",
    "plt.plot(range(1,11), train_accs_sgd, label='train_acc')\n",
    "plt.plot(range(1,11), val_accs_sgd, label='val_acc')\n",
    "plt.title('Optimizer: SGD')\n",
    "plt.xlabel('num_epochs')\n",
    "plt.legend(loc='best')\n",
    "plt.tight_layout()"
   ]
  },
  {
   "cell_type": "code",
   "execution_count": 462,
   "metadata": {},
   "outputs": [
    {
     "data": {
      "text/plain": [
       "64.66"
      ]
     },
     "execution_count": 462,
     "metadata": {},
     "output_type": "execute_result"
    }
   ],
   "source": [
    "np.amax(val_accs_sgd)"
   ]
  },
  {
   "cell_type": "markdown",
   "metadata": {},
   "source": [
    "### Vocab size"
   ]
  },
  {
   "cell_type": "code",
   "execution_count": 214,
   "metadata": {},
   "outputs": [],
   "source": [
    "learning_rate = 0.001\n",
    "emb_dim = 500\n",
    "criterion=torch.nn.CrossEntropyLoss()"
   ]
  },
  {
   "cell_type": "code",
   "execution_count": 497,
   "metadata": {},
   "outputs": [],
   "source": [
    "model = BagOfWords(len(id2token), emb_dim)\n",
    "optimizer = torch.optim.Adam(model.parameters(), lr=learning_rate)\n",
    "model_vocab5000, train_accs_vocab5000, val_accs_vocab5000 = train()"
   ]
  },
  {
   "cell_type": "code",
   "execution_count": 498,
   "metadata": {},
   "outputs": [],
   "source": [
    "model = BagOfWords(len(id2token), emb_dim)\n",
    "optimizer = torch.optim.Adam(model.parameters(), lr=learning_rate)\n",
    "model_vocab20000, train_accs_vocab20000, val_accs_vocab20000 = train()"
   ]
  },
  {
   "cell_type": "code",
   "execution_count": 220,
   "metadata": {},
   "outputs": [
    {
     "data": {
      "image/png": "[encoded data removed]",
      "text/plain": [
       "<Figure size 720x216 with 3 Axes>"
      ]
     },
     "metadata": {
      "needs_background": "light"
     },
     "output_type": "display_data"
    }
   ],
   "source": [
    "plt.figure(1, figsize=(10,3))\n",
    "plt.subplot(131)\n",
    "plt.plot(range(1,11), train_accs_vocab5000, label='train_acc')\n",
    "plt.plot(range(1,11), val_accs_vocab5000, label='val_acc')\n",
    "plt.title('Vocab size = 5000')\n",
    "plt.xlabel('num_epochs')\n",
    "plt.ylim((75, 100))\n",
    "plt.legend(loc='best')\n",
    "plt.subplot(132)\n",
    "plt.plot(range(1,11), train_accs_array_emb[1], label='train_acc')\n",
    "plt.plot(range(1,11), val_accs_array_emb[1], label='val_acc')\n",
    "plt.title('Vocab size = 10000')\n",
    "plt.xlabel('num_epochs')\n",
    "plt.ylim((75, 100))\n",
    "plt.legend(loc='best')\n",
    "plt.subplot(133)\n",
    "plt.plot(range(1,11), train_accs_vocab20000, label='train_acc')\n",
    "plt.plot(range(1,11), val_accs_vocab20000, label='val_acc')\n",
    "plt.title('Vocab size = 20000')\n",
    "plt.xlabel('num_epochs')\n",
    "plt.ylim((75, 100))\n",
    "plt.legend(loc='best')\n",
    "plt.tight_layout()"
   ]
  },
  {
   "cell_type": "code",
   "execution_count": 221,
   "metadata": {},
   "outputs": [
    {
     "data": {
      "text/plain": [
       "85.26"
      ]
     },
     "execution_count": 221,
     "metadata": {},
     "output_type": "execute_result"
    }
   ],
   "source": [
    "max(val_accs_vocab5000)"
   ]
  },
  {
   "cell_type": "code",
   "execution_count": 463,
   "metadata": {},
   "outputs": [
    {
     "data": {
      "text/plain": [
       "84.32"
      ]
     },
     "execution_count": 463,
     "metadata": {},
     "output_type": "execute_result"
    }
   ],
   "source": [
    "max(val_accs_vocab20000)"
   ]
  },
  {
   "cell_type": "markdown",
   "metadata": {},
   "source": [
    "### Tokenization schemes"
   ]
  },
  {
   "cell_type": "code",
   "execution_count": 499,
   "metadata": {},
   "outputs": [],
   "source": [
    "learning_rate = 0.001\n",
    "emb_dim = 500\n",
    "criterion=torch.nn.CrossEntropyLoss()\n",
    "model = BagOfWords(len(id2token), emb_dim)\n",
    "optimizer = torch.optim.Adam(model.parameters(), lr=learning_rate)\n",
    "model_no_stop, train_accs_no_stop, val_accs_no_stop = train()"
   ]
  },
  {
   "cell_type": "code",
   "execution_count": 270,
   "metadata": {},
   "outputs": [
    {
     "data": {
      "image/png": "[encoded data removed]",
      "text/plain": [
       "<Figure size 504x216 with 2 Axes>"
      ]
     },
     "metadata": {
      "needs_background": "light"
     },
     "output_type": "display_data"
    }
   ],
   "source": [
    "plt.figure(1, figsize=(7,3))\n",
    "plt.subplot(121)\n",
    "plt.plot(range(1,11), train_accs_vocab5000, label='train_acc')\n",
    "plt.plot(range(1,11), val_accs_vocab5000, label='val_acc')\n",
    "plt.title('Tokenization scheme 1')\n",
    "plt.xlabel('num_epochs')\n",
    "plt.ylim((75, 100))\n",
    "plt.legend(loc='best')\n",
    "plt.subplot(122)\n",
    "plt.plot(range(1,11), train_accs_no_stop, label='train_acc')\n",
    "plt.plot(range(1,11), val_accs_no_stop, label='val_acc')\n",
    "plt.title('Tokenization scheme 2')\n",
    "plt.xlabel('num_epochs')\n",
    "plt.ylim((75, 100))\n",
    "plt.legend(loc='best')\n",
    "plt.tight_layout()"
   ]
  },
  {
   "cell_type": "code",
   "execution_count": 271,
   "metadata": {},
   "outputs": [
    {
     "data": {
      "text/plain": [
       "85.84"
      ]
     },
     "execution_count": 271,
     "metadata": {},
     "output_type": "execute_result"
    }
   ],
   "source": [
    "max(val_accs_no_stop)"
   ]
  },
  {
   "cell_type": "markdown",
   "metadata": {},
   "source": [
    "### n-gram"
   ]
  },
  {
   "cell_type": "code",
   "execution_count": 500,
   "metadata": {},
   "outputs": [],
   "source": [
    "learning_rate = 0.001\n",
    "emb_dim = 500\n",
    "criterion=torch.nn.CrossEntropyLoss()\n",
    "model = BagOfWords(len(id2token), emb_dim)\n",
    "optimizer = torch.optim.Adam(model.parameters(), lr=learning_rate)\n",
    "model_2gram, train_accs_2gram, val_accs_2gram = train()"
   ]
  },
  {
   "cell_type": "code",
   "execution_count": 501,
   "metadata": {},
   "outputs": [],
   "source": [
    "model = BagOfWords(len(id2token), emb_dim)\n",
    "optimizer = torch.optim.Adam(model.parameters(), lr=learning_rate)\n",
    "model_3gram, train_accs_3gram, val_accs_3gram = train()"
   ]
  },
  {
   "cell_type": "code",
   "execution_count": 502,
   "metadata": {},
   "outputs": [],
   "source": [
    "model = BagOfWords(len(id2token), emb_dim)\n",
    "optimizer = torch.optim.Adam(model.parameters(), lr=learning_rate)\n",
    "model_4gram, train_accs_4gram, val_accs_4gram = train()"
   ]
  },
  {
   "cell_type": "code",
   "execution_count": 449,
   "metadata": {},
   "outputs": [
    {
     "data": {
      "image/png": "[encoded data removed]",
      "text/plain": [
       "<Figure size 576x432 with 4 Axes>"
      ]
     },
     "metadata": {
      "needs_background": "light"
     },
     "output_type": "display_data"
    }
   ],
   "source": [
    "plt.figure(1, figsize=(8,6))\n",
    "plt.subplot(221)\n",
    "plt.plot(range(1,11), train_accs_vocab5000, label='train_acc')\n",
    "plt.plot(range(1,11), val_accs_vocab5000, label='val_acc')\n",
    "plt.title('n for n-gram = 1')\n",
    "plt.xlabel('num_epochs')\n",
    "#plt.ylim((75, 100))\n",
    "plt.legend(loc='best')\n",
    "plt.subplot(222)\n",
    "plt.plot(range(1,11), train_accs_2gram, label='train_acc')\n",
    "plt.plot(range(1,11), val_accs_2gram, label='val_acc')\n",
    "plt.title('n = 2')\n",
    "plt.xlabel('num_epochs')\n",
    "#plt.ylim((75, 100))\n",
    "plt.legend(loc='best')\n",
    "plt.subplot(223)\n",
    "plt.plot(range(1,11), train_accs_3gram, label='train_acc')\n",
    "plt.plot(range(1,11), val_accs_3gram, label='val_acc')\n",
    "plt.title('n = 2')\n",
    "plt.xlabel('num_epochs')\n",
    "#plt.ylim((75, 100))\n",
    "plt.legend(loc='best')\n",
    "plt.subplot(224)\n",
    "plt.plot(range(1,11), train_accs_4gram, label='train_acc')\n",
    "plt.plot(range(1,11), val_accs_4gram, label='val_acc')\n",
    "plt.title('n = 2')\n",
    "plt.xlabel('num_epochs')\n",
    "#plt.ylim((75, 100))\n",
    "plt.legend(loc='best')\n",
    "plt.tight_layout()"
   ]
  },
  {
   "cell_type": "code",
   "execution_count": 464,
   "metadata": {},
   "outputs": [
    {
     "name": "stdout",
     "output_type": "stream",
     "text": [
      "81.32 76.46 70.26\n"
     ]
    }
   ],
   "source": [
    "print(max(val_accs_2gram), max(val_accs_3gram), max(val_accs_4gram))"
   ]
  },
  {
   "cell_type": "markdown",
   "metadata": {},
   "source": [
    "## Best model performance"
   ]
  },
  {
   "cell_type": "code",
   "execution_count": 491,
   "metadata": {},
   "outputs": [
    {
     "name": "stdout",
     "output_type": "stream",
     "text": [
      "After training for 10 epochs\n",
      "Val Acc 83.74\n",
      "Test Acc 84.956\n"
     ]
    }
   ],
   "source": [
    "print (\"After training for {} epochs\".format(num_epochs))\n",
    "print (\"Val Acc {}\".format(test_model(val_loader, model_no_stop)))\n",
    "print (\"Test Acc {}\".format(test_model(test_loader, model_no_stop)))"
   ]
  }
 ],
 "metadata": {
  "kernelspec": {
   "display_name": "Python 3",
   "language": "python",
   "name": "python3"
  },
  "language_info": {
   "codemirror_mode": {
    "name": "ipython",
    "version": 3
   },
   "file_extension": ".py",
   "mimetype": "text/x-python",
   "name": "python",
   "nbconvert_exporter": "python",
   "pygments_lexer": "ipython3",
   "version": "3.6.6"
  }
 },
 "nbformat": 4,
 "nbformat_minor": 2
}
